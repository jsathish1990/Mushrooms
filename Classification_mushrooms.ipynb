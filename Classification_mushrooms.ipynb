{
  "cells": [
    {
      "cell_type": "markdown",
      "source": [
        "### **Supervised Machine Learning**\n",
        "\n",
        "\n",
        "- Supervised Machine Learning is a type of machine learning that learns the relationship between input and output.\n",
        "\n",
        "- In Supervised Machine Learning, the relationship between the input and labeled output is learnt through the process of training\n",
        "- Two types of Supervised Machine Learning :\n",
        "  -  Classification\n",
        "  -  Regression\n",
        "\n",
        "- **Classification** is a type of supervised machine learning where the model learns from the data to predict a discrete event or an outcome\n",
        "    - Logistic Regression, Random Forest Classifier are some of the many machine learning algorithms for a classification problem\n",
        "\n",
        "- **Regression** is a type of supervised machine learning where the model learns from the data to predict continuous values such as weight.\n",
        "    - Linear Regression, Gradient Boosted Trees Regression are some of the many machine learning algorithms for a regression problem\n",
        "\n",
        "\n",
        "*Reference:*\n",
        "\n",
        "\n",
        "*Géron, Aurélien. \"Hands-on machine learning with Scikit-Learn.\" Keras, and TensorFlow: Concepts, tools, and techniques to build intelligent systems 1 (2019).*\n"
      ],
      "metadata": {
        "id": "NICapoKAQ_Yi"
      }
    },
    {
      "cell_type": "markdown",
      "metadata": {
        "id": "WvxETc68OPMD"
      },
      "source": [
        "### **Problem statement**\n",
        "\n",
        "- The objective of this problem is about classifying  mushrooms with caps to be edible or poisonous.\n",
        "- The dataset for this classification problem can be found at :\n",
        "\n",
        "  https://archive.ics.uci.edu/dataset/73/mushroom\n",
        "\n",
        "  "
      ]
    },
    {
      "cell_type": "code",
      "execution_count": null,
      "metadata": {
        "id": "5nvmD3sXOPMP"
      },
      "outputs": [],
      "source": [
        "# Importing warnings module and filterwarnings() method\n",
        "\n",
        "import warnings\n",
        "\n",
        "warnings.filterwarnings(\"ignore\")"
      ]
    },
    {
      "cell_type": "markdown",
      "metadata": {
        "id": "8q6XTa1uOPMQ"
      },
      "source": [
        "### **Installing required Python libraries**"
      ]
    },
    {
      "cell_type": "code",
      "execution_count": null,
      "metadata": {
        "colab": {
          "base_uri": "https://localhost:8080/"
        },
        "id": "CkaSOXuEOPMQ",
        "outputId": "df2ef399-2648-449a-b8b3-7bb87152c0dc"
      },
      "outputs": [
        {
          "output_type": "stream",
          "name": "stdout",
          "text": [
            "\u001b[2K     \u001b[90m━━━━━━━━━━━━━━━━━━━━━━━━━━━━━━━━━━━━━━━━\u001b[0m \u001b[32m532.9/532.9 kB\u001b[0m \u001b[31m3.6 MB/s\u001b[0m eta \u001b[36m0:00:00\u001b[0m\n",
            "\u001b[2K     \u001b[90m━━━━━━━━━━━━━━━━━━━━━━━━━━━━━━━━━━━━━━━━\u001b[0m \u001b[32m98.7/98.7 MB\u001b[0m \u001b[31m10.7 MB/s\u001b[0m eta \u001b[36m0:00:00\u001b[0m\n",
            "\u001b[?25h"
          ]
        }
      ],
      "source": [
        "# Installing the SHAP libraru for calculating shapley metric for feature importance\n",
        "!pip install shap --quiet\n",
        "\n",
        "# Installing the Plotly library for interactive data visualization\n",
        "!pip install plotly --quiet\n",
        "\n",
        "# Installing the Seaborn library for statistical data visualization\n",
        "!pip install seaborn --quiet\n",
        "\n",
        "# Installing the catboost library for gradient boosting on decision trees\n",
        "!pip install catboost --quiet"
      ]
    },
    {
      "cell_type": "markdown",
      "metadata": {
        "id": "dwyB6lmAl4-2"
      },
      "source": [
        "### **Importing the required libaries**"
      ]
    },
    {
      "cell_type": "code",
      "execution_count": null,
      "metadata": {
        "colab": {
          "background_save": true
        },
        "id": "sKqp6h7LOPMV"
      },
      "outputs": [],
      "source": [
        "# Importing Pandas and Numpy for data manipulation\n",
        "import pandas as pd\n",
        "import numpy as np\n",
        "\n",
        "# Importing Seaborn and Matplotlib for data visualization\n",
        "import matplotlib.pyplot as plt\n",
        "import seaborn as sns\n",
        "\n",
        "# Importing Plotly for interactive data visualization\n",
        "import plotly.express as px\n",
        "\n",
        "\n",
        "# Importing train_test_split package from scikit-learn's model selection module\n",
        "from sklearn.model_selection import train_test_split\n",
        "\n",
        "# Importing CatBoostClassifier for gradient boosting on decision trees\n",
        "from catboost import CatBoostClassifier\n",
        "\n",
        "# Importing confusion_matrix, ConfusionMatrixDisplay from scikit-learn's metrics module\n",
        "from sklearn.metrics import confusion_matrix, ConfusionMatrixDisplay\n",
        "\n",
        "# Importing SHAP library Metric for feature importance calculation using Shapley values\n",
        "import shap\n"
      ]
    },
    {
      "cell_type": "code",
      "execution_count": null,
      "metadata": {
        "id": "ouHVc1wjOPMW"
      },
      "outputs": [],
      "source": [
        "# Mounting Google Drive to access files in Google Colab\n",
        "\n",
        "from google.colab import drive\n",
        "drive.mount('/content/drive')"
      ]
    },
    {
      "cell_type": "code",
      "execution_count": null,
      "metadata": {
        "id": "6mmP7bnKOPMW"
      },
      "outputs": [],
      "source": [
        "# Importing mushrooms.csv to a Pandas DataFrame\n",
        "\n",
        "df = pd.read_csv(\"/content/drive/MyDrive/mushrooms.csv\")"
      ]
    },
    {
      "cell_type": "markdown",
      "metadata": {
        "id": "-a3K3p2F7HDV"
      },
      "source": [
        "### **Analytics and Preliminary Visualization**\n"
      ]
    },
    {
      "cell_type": "code",
      "execution_count": null,
      "metadata": {
        "id": "6oWfDV-mOPMW"
      },
      "outputs": [],
      "source": [
        "# EDA - Data analysis\n",
        "\n",
        "# Visualizing the distribution of categories in the 'class' feature with Seaborn's countplot\n",
        "sns.set(font_scale = 1.2)\n",
        "sns.countplot(data = df, x = \"class\")\n",
        "\n",
        "# The plot shows that there is no significant class imbalance potentially negating the need for sampling"
      ]
    },
    {
      "cell_type": "code",
      "execution_count": null,
      "metadata": {
        "id": "AMUUPuAGOPMX"
      },
      "outputs": [],
      "source": [
        "# Display the number of rows and columns in the dataframe with the df.shape attribute\n",
        "\n",
        "df.shape"
      ]
    },
    {
      "cell_type": "code",
      "execution_count": null,
      "metadata": {
        "id": "jMOIhABiOPMX"
      },
      "outputs": [],
      "source": [
        "# Displaying the names of the columns in the dataframe with df.columns attribute\n",
        "\n",
        "df.columns"
      ]
    },
    {
      "cell_type": "markdown",
      "metadata": {
        "id": "ngWqITrj8PxT"
      },
      "source": [
        "### **Data Cleaning and Missing values**"
      ]
    },
    {
      "cell_type": "code",
      "execution_count": null,
      "metadata": {
        "id": "figwvShMOPMY"
      },
      "outputs": [],
      "source": [
        "df.isnull().sum()\n",
        "\n",
        "# While the df.isnull().sum() shows there are no missing values or null values,\n",
        "# the dataframe column 'stalk-root' does have '?' (missing) category\n",
        "\n",
        "# The percentage of missing values in this column : 30.5% as shown subsequently\n"
      ]
    },
    {
      "cell_type": "code",
      "execution_count": null,
      "metadata": {
        "id": "JtFABLyMOPMi"
      },
      "outputs": [],
      "source": [
        "# using df.replace() method to provide descriptive labels for the 'stalk-root'column\n",
        "# stalk-root: bulbous=b,club=c,cup=u,equal=e,rhizomorphs=z,rooted=r,missing=?\n",
        "\n",
        "df['stalk-root'] = df['stalk-root'].replace({'b':'bulbous','c':'club','u':'cup','e':'equal','z':'rhizomorphs','r':'rooted','?':'missing'})\n",
        "df['stalk-root'].unique()\n"
      ]
    },
    {
      "cell_type": "code",
      "execution_count": null,
      "metadata": {
        "id": "3QLKK7jtpJDE"
      },
      "outputs": [],
      "source": [
        "# df.value_counts() method to get the proportion of each category in 'stalk-root' column\n",
        "\n",
        "df['stalk-root'].value_counts(normalize = True)"
      ]
    },
    {
      "cell_type": "markdown",
      "metadata": {
        "id": "lE-iapbdOPMZ"
      },
      "source": [
        "### **Descriptive label for each column**\n",
        "\n",
        "\n",
        "\n"
      ]
    },
    {
      "cell_type": "code",
      "execution_count": null,
      "metadata": {
        "id": "2OlMlUt3OPMZ"
      },
      "outputs": [],
      "source": [
        "# Using df.replace() method to provide descriptive labels for the 'class' column values\n",
        "# In the 'class' column, replacing 'edible' with 'e' and 'poisonous' with 'p'\n",
        "\n",
        "df['class'] = df['class'].replace({'p':'poisonous', 'e':'edible'})"
      ]
    },
    {
      "cell_type": "code",
      "execution_count": null,
      "metadata": {
        "id": "7mnbdGqOOPMZ"
      },
      "outputs": [],
      "source": [
        "# Displaying the unique values in the 'class' column with df.unique() method\n",
        "df['class'].unique()"
      ]
    },
    {
      "cell_type": "code",
      "execution_count": null,
      "metadata": {
        "id": "CCybPnJDOPMZ"
      },
      "outputs": [],
      "source": [
        "# Using df.replace() method to provide desciptive labels for the 'cap-shape' column values\n",
        "# cap-shape: bell=b,conical=c,convex=x,flat=f, knobbed=k,sunken=s\n",
        "\n",
        "df['cap-shape'] = df['cap-shape'].replace({'x':'convex','b':'bell','s':'sunken','f':'flat','c':'conical','k':'knobbed'})"
      ]
    },
    {
      "cell_type": "code",
      "execution_count": null,
      "metadata": {
        "id": "SgFlbwYTOPMZ"
      },
      "outputs": [],
      "source": [
        "df['cap-shape'].unique()\n"
      ]
    },
    {
      "cell_type": "code",
      "execution_count": null,
      "metadata": {
        "id": "3YB7rQtCOPMa"
      },
      "outputs": [],
      "source": [
        "# Using df.replace() method to provide descriptive labels for the 'ring-number' column values\n",
        "# ring-number: none=n,one=o,two=t\n",
        "\n",
        "df['ring-number'] = df['ring-number'].replace({'o':'one','t':'two','n':'none'})\n",
        "\n",
        "df['ring-number'].unique()"
      ]
    },
    {
      "cell_type": "code",
      "execution_count": null,
      "metadata": {
        "id": "cmjpctxmOPMa"
      },
      "outputs": [],
      "source": [
        "# Providing descriptive labels for the 'stalk-shape' column values with df.replace() method\n",
        "# stalk-shape : enlarging=e,tapering=t\n",
        "\n",
        "df['stalk-shape'] = df['stalk-shape'].replace({'e':'enlarging','t':'tapering'})\n",
        "df['stalk-shape'].unique()\n"
      ]
    },
    {
      "cell_type": "code",
      "execution_count": null,
      "metadata": {
        "id": "yTPfAV4zOPMa"
      },
      "outputs": [],
      "source": [
        "# Display the count of each unique category in 'stalk-shape' column\n",
        "\n",
        "df['stalk-shape'].value_counts()"
      ]
    },
    {
      "cell_type": "code",
      "execution_count": null,
      "metadata": {
        "id": "UMrrlqaXOPMa"
      },
      "outputs": [],
      "source": [
        "# Providing descriptive labels for the 'population' column values with df.replace() method\n",
        "# population: abundant=a,clustered=c,numerous=n,scattered=s,several=v,solitary=y\n",
        "\n",
        "\n",
        "df['population'] = df['population'].replace({'s':'scattered','n':'numerous','a':'abundant','v':'several','y':'solitary','c':'clustered'})\n",
        "df['population'].unique()"
      ]
    },
    {
      "cell_type": "code",
      "execution_count": null,
      "metadata": {
        "id": "UzNrScvkOPMb"
      },
      "outputs": [],
      "source": [
        "# Providing descriptive labels for the 'habitat' column values with df.replace() method\n",
        "\n",
        "# habitat: grasses=g,leaves=l,meadows=m,paths=p,urban=u,waste=w,woods=d\n",
        "\n",
        "df['habitat'] = df['habitat'].replace({'g':'grasses','l':'leaves','m':'meadows','p':'paths','u':'urban','w':'waste','d':'woods'})"
      ]
    },
    {
      "cell_type": "code",
      "execution_count": null,
      "metadata": {
        "id": "KT2Owt1EOPMb"
      },
      "outputs": [],
      "source": [
        "# Providing descriptive labels for the 'bruises' column values with df.replace() method\n",
        "# bruises: bruises=t,no=f\n",
        "\n",
        "df['bruises'] = df['bruises'].replace({'t':'yes','f':'no'})\n",
        "df['bruises'].unique()"
      ]
    },
    {
      "cell_type": "code",
      "execution_count": null,
      "metadata": {
        "id": "kHHC_XmGOPMc"
      },
      "outputs": [],
      "source": [
        "# Providing descriptive labels for the 'odor' column values with df.replace() method\n",
        "# odor: almond=a,anise=l,creosote=c,fishy=y,foul=f,musty=m,none=n,pungent=p,spicy=s\n",
        "\n",
        "df['odor'] = df['odor'].replace({'a':'almond','l':'anise','c':'creosote','y':'fishy','f':'foul','m':'musty','n':'none','p':'pungent','s':'spicy'})"
      ]
    },
    {
      "cell_type": "code",
      "execution_count": null,
      "metadata": {
        "id": "lVRHafPmOPMc"
      },
      "outputs": [],
      "source": [
        "# Providing descriptive labels for the 'ring-type' column values with df.replace() method\n",
        "# 'ring-type' : cobwebby=c,evanescent=e,flaring=f,large=l,none=n,pendant=p,sheathing=s,zone=z\n",
        "\n",
        "df['ring-type'] = df['ring-type'].replace({'c':'cobwebby','e':'evanescent','f':'flaring','l':'large','n':'none','p':'pendant','s':'sheathing','z':'zone'})"
      ]
    },
    {
      "cell_type": "code",
      "execution_count": null,
      "metadata": {
        "id": "a8fYQ9LqOPMd"
      },
      "outputs": [],
      "source": [
        "# Providing desciptive labels for the 'cap-surface' column values with df.replace() method\n",
        "# cap-surface : fibrous=f,grooves=g,scaly=y,smooth=s\n",
        "\n",
        "df['cap-surface'] = df['cap-surface'].replace({'f':'fibrous','g':'grooves','y':'scaly','s':'smooth'})"
      ]
    },
    {
      "cell_type": "code",
      "execution_count": null,
      "metadata": {
        "id": "LG0x7mOzOPMf"
      },
      "outputs": [],
      "source": [
        "# Providing descriptive labels for the 'cap-color' column values with df.replace() method\n",
        "# cap-color: brown=n,buff=b,cinnamon=c,gray=g,green=r,pink=p,purple=u,red=e,white=w,yellow=y\n",
        "\n",
        "df['cap-color'] = df['cap-color'].replace({'n':'brown','b':'buff','c':'cinnamon','g':'gray','r':'green','p':'pink','u':'purple','e':'red','w':'white','y':'yellow'})"
      ]
    },
    {
      "cell_type": "code",
      "execution_count": null,
      "metadata": {
        "id": "cxj3bkP3OPMf"
      },
      "outputs": [],
      "source": [
        "# Providing descriptive labels for the 'gill-attachment' column values with df.replace() method\n",
        "#gill-attachment: attached=a,descending=d,free=f,notched=n\n",
        "\n",
        "df['gill-attachment'] = df['gill-attachment'].replace({'a':'attached','d':'descending','f':'free','n':'notched'})"
      ]
    },
    {
      "cell_type": "code",
      "execution_count": null,
      "metadata": {
        "id": "ZC6lU2KWOPMg"
      },
      "outputs": [],
      "source": [
        "# Providing descriptive labels for the 'gill-spacing' column values with df.replace() method\n",
        "# gill-spacing: close=c,crowded=w,distant=d\n",
        "\n",
        "df['gill-spacing'] = df['gill-spacing'].replace({'c':'close','w':'crowded','d':'distant'})"
      ]
    },
    {
      "cell_type": "code",
      "execution_count": null,
      "metadata": {
        "id": "0W9g48GeOPMg"
      },
      "outputs": [],
      "source": [
        "# Providing descriptive labels for the 'gill-size' column values with df.replace() method\n",
        "# gill-size: broad=b,narrow=n\n",
        "\n",
        "df['gill-size'] = df['gill-size'].replace({'b':'broad','n':'narrow'})\n"
      ]
    },
    {
      "cell_type": "code",
      "execution_count": null,
      "metadata": {
        "id": "l7Ol_T38OPMh"
      },
      "outputs": [],
      "source": [
        "# Providing descriptive labels for the 'gill-color' column values with df.replace() method\n",
        "# gill-color: black=k,brown=n,buff=b,chocolate=h,gray=g, green=r,orange=o,pink=p,purple=u,red=e,white=w,yellow=y\n",
        "\n",
        "df['gill-color'] = df['gill-color'].replace({'k':'black','n':'brown','b':'buff','h':'chocolate','g':'gray','r':'green','o':'orange','p':'pink','u':'purple','e':'red','w':'white','y':'yellow'})"
      ]
    },
    {
      "cell_type": "code",
      "execution_count": null,
      "metadata": {
        "id": "tEsOFh8_OPMh"
      },
      "outputs": [],
      "source": [
        "# Providing descriptive labels for the 'spore-print-color' column values with df.replace() method\n",
        "# spore-print-color: black=k,brown=n,buff=b,chocolate=h,green=r,orange=o,purple=u,white=w,yellow=y\n",
        "\n",
        "df['spore-print-color'] = df['spore-print-color'].replace({'k':'black','n':'brown','b':'buff','h':'chocolate','r':'green','o':'orange','u':'purple','w':'white','y':'yellow'})"
      ]
    },
    {
      "cell_type": "code",
      "execution_count": null,
      "metadata": {
        "id": "odmMdCNtOPMh"
      },
      "outputs": [],
      "source": [
        "# Providing descriptive labels for the 'veil-color' column values with df.replace() method\n",
        "# veil-color: brown=n,orange=o,white=w,yellow=y\n",
        "\n",
        "df['veil-color'] = df['veil-color'].replace({'n':'brown','o':'orange','w':'white','y':'yellow'})"
      ]
    },
    {
      "cell_type": "code",
      "execution_count": null,
      "metadata": {
        "id": "j3RALx9HOPMh"
      },
      "outputs": [],
      "source": [
        "# Providing descriptive labels for the 'stalk-color-below-ring' column values with df.replace() method\n",
        "# stalk-color-below-ring: brown=n,buff=b,cinnamon=c,gray=g,orange=o,pink=p,red=e,white=w,yellow=y\n",
        "\n",
        "df['stalk-color-below-ring'] = df['stalk-color-below-ring'].replace({'n':'brown','b':'buff','c':'cinnamon','g':'gray','o':'orange','p':'pink','e':'red','w':'white','y':'yellow'})"
      ]
    },
    {
      "cell_type": "code",
      "execution_count": null,
      "metadata": {
        "id": "a8mPAwyzOPMi"
      },
      "outputs": [],
      "source": [
        "# Providing descriptive labels for the 'stalk-color-above-ring' column values with df.replace() method\n",
        "# stalk-color-above-ring: brown=n,buff=b,cinnamon=c,gray=g,orange=o,pink=p,red=e,white=w,yellow=y\n",
        "\n",
        "df['stalk-color-above-ring']  = df['stalk-color-above-ring'].replace({'n':'brown','b':'buff','c':'cinnamon','g':'gray','o':'orange','p':'pink','e':'red','w':'white','y':'yellow'})"
      ]
    },
    {
      "cell_type": "code",
      "execution_count": null,
      "metadata": {
        "id": "R5H3-LxaOPMi"
      },
      "outputs": [],
      "source": [
        "# Providing descriptive labels for the 'stalk-surface-below-ring' column values with df.replace() method\n",
        "# stalk-surface-below-ring: fibrous=f,scaly=y,silky=k,smooth=s\n",
        "\n",
        "df['stalk-surface-below-ring'] = df['stalk-surface-below-ring'].replace({'f':'fibrous','y':'scaly','k':'silky','s':'smooth'})"
      ]
    },
    {
      "cell_type": "code",
      "execution_count": null,
      "metadata": {
        "id": "9NTopqbQOPMi"
      },
      "outputs": [],
      "source": [
        "# Providing descriptive labels for the 'stalk-surface-above-ring' column values with df.replace() method\n",
        "# stalk-surface-above-ring: fibrous=f,scaly=y,silky=k,smooth=s\n",
        "\n",
        "df['stalk-surface-above-ring'] = df['stalk-surface-above-ring'].replace({'f':'fibrous','y':'scaly','k':'silky','s':'smooth'})"
      ]
    },
    {
      "cell_type": "code",
      "execution_count": null,
      "metadata": {
        "id": "1Kk6Z4gTOPMi"
      },
      "outputs": [],
      "source": [
        "# Providing descriptive labels for the 'veil-type' column values with df.replace() method\n",
        "#veil-type: partial=p,universal=u\n",
        "\n",
        "df['veil-type']= df['veil-type'].replace({'p':'partial','u':'universal'})"
      ]
    },
    {
      "cell_type": "code",
      "execution_count": null,
      "metadata": {
        "id": "0iil4N3zOPMd"
      },
      "outputs": [],
      "source": [
        "# Display the first five rows of the dataframe with df.head()\n",
        "\n",
        "df.head()"
      ]
    },
    {
      "cell_type": "code",
      "execution_count": null,
      "metadata": {
        "id": "4DUILuwpOPMa"
      },
      "outputs": [],
      "source": [
        "# Visualize the count of each unique categeory in the 'population' column in the form of a bar plot\n",
        "\n",
        "plt.xlabel('population', fontsize = 14)\n",
        "plt.ylabel('Count', fontsize = 14)\n",
        "df['population'].value_counts().plot(kind = \"bar\")"
      ]
    },
    {
      "cell_type": "markdown",
      "metadata": {
        "id": "Vj36H8KH1vXy"
      },
      "source": [
        "### **Interactive Visualization with Plotly**"
      ]
    },
    {
      "cell_type": "code",
      "execution_count": null,
      "metadata": {
        "id": "z4lJfiuiOPMe"
      },
      "outputs": [],
      "source": [
        "# Visualize the distribution of the 'habitat' column using a Histogram with the Plotly library\n",
        "\n",
        "fig = px.histogram(df, x = \"habitat\", title = \"Histogram plot of habitat\")\n",
        "fig.update_layout(\n",
        "    font = dict(family = \"Times New Roman\",size = 18, color = \"red\"),\n",
        "    title_font_family = \"Times New Roman\",\n",
        "    title_font_color = \"red\",\n",
        ")\n",
        "fig.show()"
      ]
    },
    {
      "cell_type": "code",
      "execution_count": null,
      "metadata": {
        "id": "u6nlVYmsOPMe"
      },
      "outputs": [],
      "source": [
        "# Visualize the distribution of the 'population' column categorized by the 'odor' column using a Histogram with the Plotly library\n",
        "\n",
        "\n",
        "fig = px.histogram(df, x = \"population\", color = \"odor\", title = \"Distribution of population categorized by odor\")\n",
        "fig.update_layout(\n",
        "    font = dict(family = \"Times New Roman\", size = 18, color = \"red\"),\n",
        "    title_font_family = \"Times New Roman\",\n",
        "    title_font_color = \"red\")\n",
        "fig.show()"
      ]
    },
    {
      "cell_type": "code",
      "execution_count": null,
      "metadata": {
        "id": "t9J41_NuOPMf",
        "scrolled": true
      },
      "outputs": [],
      "source": [
        "# Visualize the distribution of the 'bruises' column categorized by the 'ring-type' and 'cap-surface' column using a Histogram with the Plotly library\n",
        "\n",
        "fig = px.histogram(df, x = \"bruises\", color = \"ring-type\", pattern_shape = \"cap-surface\",\n",
        "                  title = \"Distribution of bruises categorized by ring-type and cap-surface\")\n",
        "fig.update_layout(\n",
        "    font = dict(family = \"Times New Roman\", size = 18, color = \"RebeccaPurple\"),\n",
        "    title_font_family = \"Times New Roman\",\n",
        "    title_font_color = \"red\"\n",
        ")\n",
        "fig.show()"
      ]
    },
    {
      "cell_type": "code",
      "execution_count": null,
      "metadata": {
        "id": "jrxZv-3nOPMi"
      },
      "outputs": [],
      "source": [
        "# Display the names of the columns in the DataFrame\n",
        "\n",
        "df.columns\n"
      ]
    },
    {
      "cell_type": "markdown",
      "metadata": {
        "id": "B-6N85-LOPMk"
      },
      "source": [
        "### **Modeling with Catboost**"
      ]
    },
    {
      "cell_type": "code",
      "execution_count": null,
      "metadata": {
        "id": "Ht5o-f4rOPMk"
      },
      "outputs": [],
      "source": [
        "# Splitting the data into train and validation datasets with an 80-20 proportion.\n",
        "\n",
        "X = df.drop('class', axis = 1)\n",
        "y = df['class']\n",
        "\n",
        "\n",
        "X_train, X_validation, y_train, y_validation = train_test_split(X, y, train_size = 0.8, random_state = 42)"
      ]
    },
    {
      "cell_type": "code",
      "execution_count": null,
      "metadata": {
        "id": "B8qgrjIFOPMl"
      },
      "outputs": [],
      "source": [
        "# Number of rows and columns in the X_train dataset with the .shape attribute\n",
        "\n",
        "X_train.shape"
      ]
    },
    {
      "cell_type": "code",
      "execution_count": null,
      "metadata": {
        "id": "L0pw8s4mxboy"
      },
      "outputs": [],
      "source": []
    },
    {
      "cell_type": "code",
      "execution_count": null,
      "metadata": {
        "id": "bJQrc4WkOPMl"
      },
      "outputs": [],
      "source": [
        "# List of indices of the categorical features in the X_train dataset\n",
        "# This list is used to specify the categorical features in the model.fit() method\n",
        "\n",
        "cat_features_indices = list(range(0,X_train.shape[1],1))\n",
        "cat_features_indices"
      ]
    },
    {
      "cell_type": "code",
      "execution_count": null,
      "metadata": {
        "id": "hL4oOUkDOPMm"
      },
      "outputs": [],
      "source": [
        "# Set the parameters for the CatBoostClassifier Model - namely : iterations,\n",
        "# learning rate, tree depth and l2_regularization\n",
        "\n",
        "params = {'iterations' : 500,\n",
        "          'learning_rate' : 0.1,\n",
        "          'depth' : 6,\n",
        "          'l2_leaf_reg' : 3}\n",
        "model = CatBoostClassifier(**params)\n"
      ]
    },
    {
      "cell_type": "code",
      "execution_count": null,
      "metadata": {
        "id": "QVnbtD0SOPMm"
      },
      "outputs": [],
      "source": [
        "#  Training the model with model.fit() method with the CatBoostClassifier\n",
        "# This method includes the training dataset (X_train, y_train)\n",
        "# Indices of categorical features and sets verbose = False\n",
        "\n",
        "model.fit(X_train, y_train, cat_features = cat_features_indices, verbose = False)"
      ]
    },
    {
      "cell_type": "code",
      "execution_count": null,
      "metadata": {
        "id": "ZvByF_owOPMn"
      },
      "outputs": [],
      "source": [
        "# Making the predictions on the Validation dataset using the CatBoostClassifier Model\n",
        "\n",
        "y_pred = model.predict(X_validation)"
      ]
    },
    {
      "cell_type": "code",
      "execution_count": null,
      "metadata": {
        "id": "rw6gbqnsOPMn"
      },
      "outputs": [],
      "source": [
        "# Calculation of the Accuracy metric for the validation dataset\n",
        "accuracy = (y_pred == np.array(y_validation)).mean()\n",
        "accuracy"
      ]
    },
    {
      "cell_type": "code",
      "execution_count": null,
      "metadata": {
        "id": "mjVBUMVsi38j"
      },
      "outputs": [],
      "source": [
        "# Making predictions on the training dataset using  the CatBoostClassifier Model\n",
        "\n",
        "y_pred_train = model.predict(X_train)"
      ]
    },
    {
      "cell_type": "code",
      "execution_count": null,
      "metadata": {
        "id": "hMFi_ok5jBGT"
      },
      "outputs": [],
      "source": [
        "# Calculation of  accuracy metric for the training dataset\n",
        "accuracy_train = (y_pred_train == np.array(y_train)).mean()\n",
        "accuracy_train"
      ]
    },
    {
      "cell_type": "code",
      "execution_count": null,
      "metadata": {
        "id": "aKH3fsEiOPMo",
        "scrolled": true
      },
      "outputs": [],
      "source": [
        "# Plotting the Confusion Matrix to compare the true values (y_validation)\n",
        "# and predicted values (y_pred)\n",
        "\n",
        "cm = confusion_matrix(y_validation, y_pred, labels = model.classes_)\n",
        "disp = ConfusionMatrixDisplay(cm, display_labels = model.classes_)\n",
        "disp.plot()\n",
        "plt.show()"
      ]
    },
    {
      "cell_type": "code",
      "execution_count": null,
      "metadata": {
        "id": "y7fK-5L_OPMn"
      },
      "outputs": [],
      "source": [
        "# Calculation of the SHAP values using the Shap.Explainer() method\n",
        "explainer = shap.Explainer(model)\n",
        "shap_values = explainer(X_validation)"
      ]
    },
    {
      "cell_type": "code",
      "execution_count": null,
      "metadata": {
        "id": "Dzuhz_g4OPMo"
      },
      "outputs": [],
      "source": [
        "# Bar plot of the calculated SHAP values\n",
        "shap.plots.bar(shap_values)"
      ]
    }
  ],
  "metadata": {
    "celltoolbar": "Raw Cell Format",
    "colab": {
      "provenance": []
    },
    "kernelspec": {
      "display_name": "Python 3",
      "name": "python3"
    },
    "language_info": {
      "codemirror_mode": {
        "name": "ipython",
        "version": 3
      },
      "file_extension": ".py",
      "mimetype": "text/x-python",
      "name": "python",
      "nbconvert_exporter": "python",
      "pygments_lexer": "ipython3",
      "version": "3.9.7"
    }
  },
  "nbformat": 4,
  "nbformat_minor": 0
}